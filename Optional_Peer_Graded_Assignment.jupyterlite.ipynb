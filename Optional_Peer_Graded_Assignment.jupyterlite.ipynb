{
  "metadata": {
    "kernelspec": {
      "name": "python",
      "display_name": "Python (Pyodide)",
      "language": "python"
    },
    "language_info": {
      "codemirror_mode": {
        "name": "python",
        "version": 3
      },
      "file_extension": ".py",
      "mimetype": "text/x-python",
      "name": "python",
      "nbconvert_exporter": "python",
      "pygments_lexer": "ipython3",
      "version": "3.8"
    }
  },
  "nbformat_minor": 4,
  "nbformat": 4,
  "cells": [
    {
      "cell_type": "markdown",
      "source": "<p style=\"text-align:center\">\n    <a href=\"https://skills.network/?utm_medium=Exinfluencer&utm_source=Exinfluencer&utm_content=000026UJ&utm_term=10006555&utm_id=NA-SkillsNetwork-Channel-SkillsNetworkCoursesIBMDeveloperSkillsNetworkST0151ENSkillsNetwork20531532-2022-01-01\" target=\"_blank\">\n    <img src=\"https://cf-courses-data.s3.us.cloud-object-storage.appdomain.cloud/assets/logos/SN_web_lightmode.png\" width=\"200\" alt=\"Skills Network Logo\"  />\n    </a>\n</p>\n\n",
      "metadata": {}
    },
    {
      "cell_type": "markdown",
      "source": "#### Import the required libraries we need for the lab.\n",
      "metadata": {}
    },
    {
      "cell_type": "code",
      "source": "import piplite\nawait piplite.install(['numpy'],['pandas'])\nawait piplite.install(['seaborn'])",
      "metadata": {
        "trusted": true
      },
      "outputs": [],
      "execution_count": null
    },
    {
      "cell_type": "code",
      "source": "import pandas as pd\nimport pandas as pd\nimport seaborn as sns\nimport matplotlib.pyplot as pyplot\nimport scipy.stats\nimport statsmodels.api as sm\nfrom statsmodels.formula.api import ols",
      "metadata": {
        "trusted": true
      },
      "outputs": [],
      "execution_count": null
    },
    {
      "cell_type": "markdown",
      "source": "#### Read the dataset in the csv file from the URL\n",
      "metadata": {}
    },
    {
      "cell_type": "code",
      "source": "from js import fetch\nimport io\n\nURL = 'https://cf-courses-data.s3.us.cloud-object-storage.appdomain.cloud/IBMDeveloperSkillsNetwork-ST0151EN-SkillsNetwork/labs/boston_housing.csv'\nresp = await fetch(URL)\nboston_url = io.BytesIO((await resp.arrayBuffer()).to_py())",
      "metadata": {
        "trusted": true
      },
      "outputs": [],
      "execution_count": null
    },
    {
      "cell_type": "code",
      "source": "boston_df=pd.read_csv(boston_url)",
      "metadata": {
        "trusted": true
      },
      "outputs": [],
      "execution_count": null
    },
    {
      "cell_type": "markdown",
      "source": "#### Add your code below following the instructions given in the course to complete the peer graded assignment\n",
      "metadata": {}
    },
    {
      "cell_type": "code",
      "source": "plt.figure(figsize=(8, 6))\nsns.boxplot(y=boston_df['MEDV'])\nplt.title('Boxplot of Median Value of Owner-Occupied Homes')\nplt.ylabel('MEDV (in $1000\\'s)')\nplt.show()\n\nplt.figure(figsize=(8, 6))\nsns.countplot(x='CHAS', data=boston_df)\nplt.title('Bar Plot for Charles River Variable (CHAS)')\nplt.xlabel('CHAS (1 = Bounded by river, 0 = Not bounded)')\nplt.ylabel('Count')\nplt.show()\n\nboston_df['AGE_group'] = pd.cut(boston_df['AGE'], bins=[0, 35, 70, 100], labels=['<=35', '35-70', '>70'])\nplt.figure(figsize=(8, 6))\nsns.boxplot(x='AGE_group', y='MEDV', data=boston_df)\nplt.title('Boxplot of MEDV by Age Group')\nplt.xlabel('Age Group')\nplt.ylabel('MEDV (in $1000\\'s)')\nplt.show()\n\nplt.figure(figsize=(8, 6))\nsns.scatterplot(x='NOX', y='INDUS', data=boston_df)\nplt.title('Scatter Plot of NOX vs. INDUS')\nplt.xlabel('NOX (Nitric Oxide Concentration)')\nplt.ylabel('INDUS (Proportion of Non-Retail Business Acres per Town)')\nplt.show()\n\nplt.figure(figsize=(8, 6))\nsns.histplot(boston_df['PTRATIO'], bins=10, kde=True)\nplt.title('Histogram of Pupil-Teacher Ratio')\nplt.xlabel('PTRATIO')\nplt.ylabel('Frequency')\nplt.show()\n\ncharles_river_yes = boston_df[boston_df['CHAS'] == 1]['MEDV']\ncharles_river_no = boston_df[boston_df['CHAS'] == 0]['MEDV']\nt_stat, p_value = stats.ttest_ind(charles_river_yes, charles_river_no)\nt_stat, p_value\n\nanova_results = ols('MEDV ~ AGE_group', data=boston_df).fit()\nanova_table = sm.stats.anova_lm(anova_results)\nanova_table\n\ncorrelation, p_value_corr = stats.pearsonr(boston_df['NOX'], boston_df['INDUS'])\ncorrelation, p_value_corr\n\nX = boston_df['DIS']\nY = boston_df['MEDV']\nX = sm.add_constant(X)\nmodel = sm.OLS(Y, X).fit()\nregression_results = model.summary()\nregression_results\n",
      "metadata": {
        "trusted": true
      },
      "outputs": [],
      "execution_count": null
    }
  ]
}